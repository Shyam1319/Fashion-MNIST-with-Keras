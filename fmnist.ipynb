{
  "nbformat": 4,
  "nbformat_minor": 0,
  "metadata": {
    "colab": {
      "name": "fmnist.ipynb",
      "provenance": [],
      "collapsed_sections": [],
      "include_colab_link": true
    },
    "kernelspec": {
      "name": "python3",
      "display_name": "Python 3"
    },
    "accelerator": "GPU"
  },
  "cells": [
    {
      "cell_type": "markdown",
      "metadata": {
        "id": "view-in-github",
        "colab_type": "text"
      },
      "source": [
        "<a href=\"https://colab.research.google.com/github/Shyam1319/Fashion-MNIST-with-Keras/blob/master/fmnist.ipynb\" target=\"_parent\"><img src=\"https://colab.research.google.com/assets/colab-badge.svg\" alt=\"Open In Colab\"/></a>"
      ]
    },
    {
      "cell_type": "code",
      "metadata": {
        "id": "SdWArsfN_Hh9",
        "colab_type": "code",
        "outputId": "64438201-4a83-4223-ce06-90b49000aab7",
        "colab": {
          "base_uri": "https://localhost:8080/",
          "height": 415
        }
      },
      "source": [
        "from google.colab import drive\n",
        "drive.mount('/content/gdrive')\n",
        "\n",
        "!unzip '/content/gdrive/My Drive/Colab Notebooks/fmnist.zip'"
      ],
      "execution_count": 0,
      "outputs": [
        {
          "output_type": "stream",
          "text": [
            "Go to this URL in a browser: https://accounts.google.com/o/oauth2/auth?client_id=947318989803-6bn6qk8qdgf4n4g3pfee6491hc0brc4i.apps.googleusercontent.com&redirect_uri=urn%3Aietf%3Awg%3Aoauth%3A2.0%3Aoob&scope=email%20https%3A%2F%2Fwww.googleapis.com%2Fauth%2Fdocs.test%20https%3A%2F%2Fwww.googleapis.com%2Fauth%2Fdrive%20https%3A%2F%2Fwww.googleapis.com%2Fauth%2Fdrive.photos.readonly%20https%3A%2F%2Fwww.googleapis.com%2Fauth%2Fpeopleapi.readonly&response_type=code\n",
            "\n",
            "Enter your authorization code:\n",
            "··········\n",
            "Mounted at /content/gdrive\n",
            "Archive:  /content/gdrive/My Drive/Colab Notebooks/fmnist.zip\n",
            "   creating: fmnist/\n",
            "  inflating: fmnist/t10k-images-idx3-ubyte  \n",
            "  inflating: fmnist/fashion-mnist_test.csv  \n",
            "  inflating: fmnist/train-labels-idx1-ubyte  \n",
            "  inflating: fmnist/train-images-idx3-ubyte  \n",
            "  inflating: fmnist/fashion-mnist_train.csv  \n",
            "  inflating: fmnist/t10k-labels-idx1-ubyte  \n",
            "  inflating: fmnist/fmnist.ipynb     \n",
            "   creating: fmnist/.ipynb_checkpoints/\n",
            "  inflating: fmnist/.ipynb_checkpoints/fmnist-checkpoint.ipynb  \n",
            "   creating: fmnist/logs/\n",
            "  inflating: fmnist/logs/events.out.tfevents.1551602587.shyam  \n",
            "  inflating: fmnist/logs/events.out.tfevents.1551604773.shyam  \n",
            "  inflating: fmnist/fmnist_model_trained.h5  \n",
            "  inflating: fmnist/k.py             \n"
          ],
          "name": "stdout"
        }
      ]
    },
    {
      "cell_type": "code",
      "metadata": {
        "id": "ndY1RtxhDEtk",
        "colab_type": "code",
        "outputId": "36d29d27-17f8-4613-e363-f856947a5ba4",
        "colab": {
          "base_uri": "https://localhost:8080/",
          "height": 35
        }
      },
      "source": [
        "cd fmnist"
      ],
      "execution_count": 0,
      "outputs": [
        {
          "output_type": "stream",
          "text": [
            "/content/fmnist\n"
          ],
          "name": "stdout"
        }
      ]
    },
    {
      "cell_type": "code",
      "metadata": {
        "id": "0WCGrUR1OVw1",
        "colab_type": "code",
        "outputId": "b195a698-56b7-43c2-92c4-13b0b80cd730",
        "colab": {
          "base_uri": "https://localhost:8080/",
          "height": 89
        }
      },
      "source": [
        "!ls"
      ],
      "execution_count": 0,
      "outputs": [
        {
          "output_type": "stream",
          "text": [
            "fashion-mnist_test.csv\t k.py\t\t\t train-images-idx3-ubyte\n",
            "fashion-mnist_train.csv  logs\t\t\t train-labels-idx1-ubyte\n",
            "fmnist.ipynb\t\t t10k-images-idx3-ubyte\n",
            "fmnist_model_trained.h5  t10k-labels-idx1-ubyte\n"
          ],
          "name": "stdout"
        }
      ]
    },
    {
      "cell_type": "code",
      "metadata": {
        "id": "55JfeUcX_DJt",
        "colab_type": "code",
        "outputId": "1254b625-a954-455c-e33c-82870f6c5a59",
        "colab": {
          "base_uri": "https://localhost:8080/",
          "height": 269
        }
      },
      "source": [
        "import numpy as np\n",
        "import pandas as pd\n",
        "import matplotlib.pyplot as plt\n",
        "from sklearn.metrics import classification_report\n",
        "from sklearn.model_selection import train_test_split\n",
        "%matplotlib inline\n",
        "\n",
        "\n",
        "train_df = pd.read_csv(r\"fashion-mnist_train.csv\")\n",
        "test_df = pd.read_csv(r\"fashion-mnist_test.csv\")\n",
        "\n",
        "train_df.head()\n",
        "\n",
        "train_data = np.array(train_df, dtype='float32')\n",
        "test_data = np.array(test_df, dtype='float32')\n",
        "\n",
        "x_train = train_data[:, 1:] / 255\n",
        "y_train = train_data[:, 0]\n",
        "\n",
        "x_test = test_data[:, 1:] / 255\n",
        "y_test = test_data[:, 0]\n",
        "\n",
        "x_train, x_validate, y_train, y_validate = train_test_split(x_train, y_train, test_size=0.2, random_state=0)\n",
        "\n",
        "image = x_train[50, :].reshape((28, 28))\n",
        "plt.imshow(image)\n",
        "plt.show()\n",
        "\n",
        "\n"
      ],
      "execution_count": 0,
      "outputs": [
        {
          "output_type": "display_data",
          "data": {
            "image/png": "[encoded data removed]",
            "text/plain": [
              "<Figure size 432x288 with 1 Axes>"
            ]
          },
          "metadata": {
            "tags": []
          }
        }
      ]
    },
    {
      "cell_type": "code",
      "metadata": {
        "id": "BdInRj1V_DJ0",
        "colab_type": "code",
        "colab": {}
      },
      "source": [
        "import keras\n",
        "from keras.models import Sequential\n",
        "from keras.layers import Dense, Conv2D, MaxPooling2D, Flatten, Dropout\n",
        "from keras import layers\n",
        "from keras.optimizers import Adam\n",
        "from keras.callbacks import TensorBoard\n",
        "from keras import callbacks\n",
        "from keras.utils import to_categorical\n",
        "im_rows = 28\n",
        "im_cols = 28\n",
        "batch_size = 512\n",
        "im_shape = im_rows, im_cols, 1\n",
        "\n"
      ],
      "execution_count": 0,
      "outputs": []
    },
    {
      "cell_type": "code",
      "metadata": {
        "id": "lIK5Wn0-E1Fq",
        "colab_type": "code",
        "outputId": "cca84f30-24bb-493e-f112-a82a77e4af35",
        "colab": {
          "base_uri": "https://localhost:8080/",
          "height": 145
        }
      },
      "source": [
        "model = Sequential()\n",
        "model.add(layers.Conv2D(32, (3, 3), activation='relu', input_shape=im_shape))\n",
        "model.add(layers.MaxPooling2D((2, 2)))\n",
        "model.add(layers.Conv2D(32,(3,3),activation='relu'))\n",
        "model.add(layers.MaxPooling2D((2, 2)))\n",
        "model.add(layers.Dropout(0.5))             \n",
        "model.add(layers.Flatten())\n",
        "model.add(layers.Dense(32, activation='relu'))\n",
        "model.add(layers.Dense(10, activation='softmax'))\n",
        "model.compile(optimizer=Adam(lr=0.01), loss='categorical_crossentropy', metrics=['accuracy'])"
      ],
      "execution_count": 0,
      "outputs": [
        {
          "output_type": "stream",
          "text": [
            "WARNING:tensorflow:From /usr/local/lib/python3.6/dist-packages/tensorflow/python/framework/op_def_library.py:263: colocate_with (from tensorflow.python.framework.ops) is deprecated and will be removed in a future version.\n",
            "Instructions for updating:\n",
            "Colocations handled automatically by placer.\n",
            "WARNING:tensorflow:From /usr/local/lib/python3.6/dist-packages/keras/backend/tensorflow_backend.py:3445: calling dropout (from tensorflow.python.ops.nn_ops) with keep_prob is deprecated and will be removed in a future version.\n",
            "Instructions for updating:\n",
            "Please use `rate` instead of `keep_prob`. Rate should be set to `rate = 1 - keep_prob`.\n"
          ],
          "name": "stdout"
        }
      ]
    },
    {
      "cell_type": "code",
      "metadata": {
        "id": "ie19DxQJ_DJ2",
        "colab_type": "code",
        "outputId": "435cbefb-df66-4f05-c6b8-254a91b40733",
        "colab": {
          "base_uri": "https://localhost:8080/",
          "height": 125
        }
      },
      "source": [
        "x_train = x_train.reshape(x_train.shape[0],*im_shape)\n",
        "x_test = x_test.reshape(x_test.shape[0], *im_shape)\n",
        "x_validate = x_validate.reshape(x_validate.shape[0], *im_shape)\n",
        "y_validate = to_categorical(y_validate)\n",
        "y_train = to_categorical(y_train)\n",
        "y_test = to_categorical(y_test)\n",
        "ytest = y_test\n",
        "\n",
        "print('x_train shape : {}'.format(x_train.shape))\n",
        "print('y_train shape : {}'.format(y_train.shape))\n",
        "print('x_test shape : {}'.format(x_test.shape))\n",
        "print('y_test shape : {}'.format(y_test.shape))\n",
        "print('x_validate shape : {}'.format(x_validate.shape))\n",
        "print('y_validate shape {}'.format(y_validate.shape))"
      ],
      "execution_count": 0,
      "outputs": [
        {
          "output_type": "stream",
          "text": [
            "x_train shape : (48000, 28, 28, 1)\n",
            "y_train shape : (48000, 10, 2)\n",
            "x_test shape : (10000, 28, 28, 1)\n",
            "y_test shape : (10000, 10)\n",
            "x_validate shape : (12000, 28, 28, 1)\n",
            "y_validate shape (12000, 10, 2)\n"
          ],
          "name": "stdout"
        }
      ]
    },
    {
      "cell_type": "code",
      "metadata": {
        "id": "Ia_faGpC_DJ6",
        "colab_type": "code",
        "outputId": "b3349fae-a1a2-4d9b-c88e-0fc2f853c4cc",
        "colab": {
          "base_uri": "https://localhost:8080/",
          "height": 3709
        }
      },
      "source": [
        "tensorboard = TensorBoard(\n",
        "    log_dir='./logs',\n",
        "    write_graph=True,\n",
        "    write_grads=True,\n",
        "    histogram_freq=1,\n",
        "    write_images=True,\n",
        ")\n",
        "\n",
        "H=model.fit(x_train, y_train, batch_size=batch_size,\n",
        "              epochs=100, verbose=1,\n",
        "              validation_data=(x_validate, y_validate),callbacks=[tensorboard]\n",
        "              )"
      ],
      "execution_count": 0,
      "outputs": [
        {
          "output_type": "stream",
          "text": [
            "WARNING:tensorflow:From /usr/local/lib/python3.6/dist-packages/tensorflow/python/ops/math_ops.py:3066: to_int32 (from tensorflow.python.ops.math_ops) is deprecated and will be removed in a future version.\n",
            "Instructions for updating:\n",
            "Use tf.cast instead.\n",
            "Train on 48000 samples, validate on 12000 samples\n",
            "Epoch 1/100\n",
            "48000/48000 [==============================] - 5s 103us/step - loss: 0.7043 - acc: 0.7381 - val_loss: 0.4231 - val_acc: 0.8469\n",
            "Epoch 2/100\n",
            "48000/48000 [==============================] - 2s 39us/step - loss: 0.4413 - acc: 0.8390 - val_loss: 0.3689 - val_acc: 0.8683\n",
            "Epoch 3/100\n",
            "48000/48000 [==============================] - 2s 37us/step - loss: 0.4013 - acc: 0.8531 - val_loss: 0.3310 - val_acc: 0.8814\n",
            "Epoch 4/100\n",
            "48000/48000 [==============================] - 2s 37us/step - loss: 0.3664 - acc: 0.8645 - val_loss: 0.3045 - val_acc: 0.8899\n",
            "Epoch 5/100\n",
            "48000/48000 [==============================] - 2s 38us/step - loss: 0.3537 - acc: 0.8681 - val_loss: 0.3078 - val_acc: 0.8901\n",
            "Epoch 6/100\n",
            "48000/48000 [==============================] - 2s 37us/step - loss: 0.3354 - acc: 0.8757 - val_loss: 0.2865 - val_acc: 0.8942\n",
            "Epoch 7/100\n",
            "48000/48000 [==============================] - 2s 37us/step - loss: 0.3274 - acc: 0.8790 - val_loss: 0.2941 - val_acc: 0.8890\n",
            "Epoch 8/100\n",
            "48000/48000 [==============================] - 2s 39us/step - loss: 0.3171 - acc: 0.8822 - val_loss: 0.2814 - val_acc: 0.8986\n",
            "Epoch 9/100\n",
            "48000/48000 [==============================] - 2s 37us/step - loss: 0.3077 - acc: 0.8866 - val_loss: 0.2847 - val_acc: 0.8948\n",
            "Epoch 10/100\n",
            "48000/48000 [==============================] - 2s 37us/step - loss: 0.3012 - acc: 0.8879 - val_loss: 0.2640 - val_acc: 0.9033\n",
            "Epoch 11/100\n",
            "48000/48000 [==============================] - 2s 37us/step - loss: 0.3024 - acc: 0.8871 - val_loss: 0.2662 - val_acc: 0.9018\n",
            "Epoch 12/100\n",
            "48000/48000 [==============================] - 2s 38us/step - loss: 0.2989 - acc: 0.8895 - val_loss: 0.2690 - val_acc: 0.9003\n",
            "Epoch 13/100\n",
            "48000/48000 [==============================] - 2s 37us/step - loss: 0.2933 - acc: 0.8908 - val_loss: 0.2696 - val_acc: 0.8987\n",
            "Epoch 14/100\n",
            "48000/48000 [==============================] - 2s 37us/step - loss: 0.2904 - acc: 0.8894 - val_loss: 0.2619 - val_acc: 0.9033\n",
            "Epoch 15/100\n",
            "48000/48000 [==============================] - 2s 39us/step - loss: 0.2784 - acc: 0.8962 - val_loss: 0.2626 - val_acc: 0.9025\n",
            "Epoch 16/100\n",
            "48000/48000 [==============================] - 2s 37us/step - loss: 0.2805 - acc: 0.8947 - val_loss: 0.2603 - val_acc: 0.9018\n",
            "Epoch 17/100\n",
            "48000/48000 [==============================] - 2s 36us/step - loss: 0.2757 - acc: 0.8971 - val_loss: 0.2550 - val_acc: 0.9068\n",
            "Epoch 18/100\n",
            "48000/48000 [==============================] - 2s 37us/step - loss: 0.2742 - acc: 0.8975 - val_loss: 0.2649 - val_acc: 0.9039\n",
            "Epoch 19/100\n",
            "48000/48000 [==============================] - 2s 39us/step - loss: 0.2730 - acc: 0.8960 - val_loss: 0.2549 - val_acc: 0.9058\n",
            "Epoch 20/100\n",
            "48000/48000 [==============================] - 2s 37us/step - loss: 0.2712 - acc: 0.8983 - val_loss: 0.2615 - val_acc: 0.9051\n",
            "Epoch 21/100\n",
            "48000/48000 [==============================] - 2s 36us/step - loss: 0.2679 - acc: 0.9005 - val_loss: 0.2538 - val_acc: 0.9075\n",
            "Epoch 22/100\n",
            "48000/48000 [==============================] - 2s 39us/step - loss: 0.2691 - acc: 0.8984 - val_loss: 0.2691 - val_acc: 0.8978\n",
            "Epoch 23/100\n",
            "48000/48000 [==============================] - 2s 36us/step - loss: 0.2678 - acc: 0.9007 - val_loss: 0.2640 - val_acc: 0.9011\n",
            "Epoch 24/100\n",
            "48000/48000 [==============================] - 2s 36us/step - loss: 0.2579 - acc: 0.9021 - val_loss: 0.2616 - val_acc: 0.9043\n",
            "Epoch 25/100\n",
            "48000/48000 [==============================] - 2s 37us/step - loss: 0.2601 - acc: 0.9033 - val_loss: 0.2583 - val_acc: 0.9057\n",
            "Epoch 26/100\n",
            "48000/48000 [==============================] - 2s 39us/step - loss: 0.2614 - acc: 0.9020 - val_loss: 0.2607 - val_acc: 0.9053\n",
            "Epoch 27/100\n",
            "48000/48000 [==============================] - 2s 37us/step - loss: 0.2550 - acc: 0.9028 - val_loss: 0.2550 - val_acc: 0.9064\n",
            "Epoch 28/100\n",
            "48000/48000 [==============================] - 2s 37us/step - loss: 0.2536 - acc: 0.9056 - val_loss: 0.2550 - val_acc: 0.9069\n",
            "Epoch 29/100\n",
            "48000/48000 [==============================] - 2s 39us/step - loss: 0.2534 - acc: 0.9039 - val_loss: 0.2554 - val_acc: 0.9091\n",
            "Epoch 30/100\n",
            "48000/48000 [==============================] - 2s 37us/step - loss: 0.2604 - acc: 0.9015 - val_loss: 0.2547 - val_acc: 0.9064\n",
            "Epoch 31/100\n",
            "48000/48000 [==============================] - 2s 37us/step - loss: 0.2567 - acc: 0.9029 - val_loss: 0.2533 - val_acc: 0.9097\n",
            "Epoch 32/100\n",
            "48000/48000 [==============================] - 2s 37us/step - loss: 0.2505 - acc: 0.9046 - val_loss: 0.2549 - val_acc: 0.9042\n",
            "Epoch 33/100\n",
            "48000/48000 [==============================] - 2s 38us/step - loss: 0.2508 - acc: 0.9051 - val_loss: 0.2448 - val_acc: 0.9121\n",
            "Epoch 34/100\n",
            "48000/48000 [==============================] - 2s 37us/step - loss: 0.2486 - acc: 0.9058 - val_loss: 0.2523 - val_acc: 0.9073\n",
            "Epoch 35/100\n",
            "48000/48000 [==============================] - 2s 37us/step - loss: 0.2609 - acc: 0.9010 - val_loss: 0.2465 - val_acc: 0.9092\n",
            "Epoch 36/100\n",
            "48000/48000 [==============================] - 2s 39us/step - loss: 0.2486 - acc: 0.9058 - val_loss: 0.2469 - val_acc: 0.9116\n",
            "Epoch 37/100\n",
            "48000/48000 [==============================] - 2s 37us/step - loss: 0.2504 - acc: 0.9063 - val_loss: 0.2448 - val_acc: 0.9121\n",
            "Epoch 38/100\n",
            "48000/48000 [==============================] - 2s 37us/step - loss: 0.2479 - acc: 0.9066 - val_loss: 0.2584 - val_acc: 0.9063\n",
            "Epoch 39/100\n",
            "48000/48000 [==============================] - 2s 37us/step - loss: 0.2499 - acc: 0.9049 - val_loss: 0.2511 - val_acc: 0.9115\n",
            "Epoch 40/100\n",
            "48000/48000 [==============================] - 2s 39us/step - loss: 0.2436 - acc: 0.9081 - val_loss: 0.2504 - val_acc: 0.9090\n",
            "Epoch 41/100\n",
            "48000/48000 [==============================] - 2s 37us/step - loss: 0.2428 - acc: 0.9083 - val_loss: 0.2440 - val_acc: 0.9108\n",
            "Epoch 42/100\n",
            "48000/48000 [==============================] - 2s 37us/step - loss: 0.2476 - acc: 0.9069 - val_loss: 0.2552 - val_acc: 0.9072\n",
            "Epoch 43/100\n",
            "48000/48000 [==============================] - 2s 39us/step - loss: 0.2470 - acc: 0.9063 - val_loss: 0.2400 - val_acc: 0.9132\n",
            "Epoch 44/100\n",
            "48000/48000 [==============================] - 2s 37us/step - loss: 0.2434 - acc: 0.9057 - val_loss: 0.2469 - val_acc: 0.9112\n",
            "Epoch 45/100\n",
            "48000/48000 [==============================] - 2s 36us/step - loss: 0.2411 - acc: 0.9079 - val_loss: 0.2548 - val_acc: 0.9078\n",
            "Epoch 46/100\n",
            "48000/48000 [==============================] - 2s 37us/step - loss: 0.2399 - acc: 0.9098 - val_loss: 0.2400 - val_acc: 0.9125\n",
            "Epoch 47/100\n",
            "48000/48000 [==============================] - 2s 39us/step - loss: 0.2423 - acc: 0.9075 - val_loss: 0.2596 - val_acc: 0.9068\n",
            "Epoch 48/100\n",
            "48000/48000 [==============================] - 2s 37us/step - loss: 0.2362 - acc: 0.9100 - val_loss: 0.2540 - val_acc: 0.9060\n",
            "Epoch 49/100\n",
            "48000/48000 [==============================] - 2s 37us/step - loss: 0.2366 - acc: 0.9108 - val_loss: 0.2509 - val_acc: 0.9098\n",
            "Epoch 50/100\n",
            "48000/48000 [==============================] - 2s 39us/step - loss: 0.2412 - acc: 0.9082 - val_loss: 0.2460 - val_acc: 0.9107\n",
            "Epoch 51/100\n",
            "48000/48000 [==============================] - 2s 37us/step - loss: 0.2366 - acc: 0.9108 - val_loss: 0.2516 - val_acc: 0.9048\n",
            "Epoch 52/100\n",
            "48000/48000 [==============================] - 2s 37us/step - loss: 0.2386 - acc: 0.9093 - val_loss: 0.2450 - val_acc: 0.9149\n",
            "Epoch 53/100\n",
            "48000/48000 [==============================] - 2s 37us/step - loss: 0.2333 - acc: 0.9116 - val_loss: 0.2545 - val_acc: 0.9082\n",
            "Epoch 54/100\n",
            "48000/48000 [==============================] - 2s 39us/step - loss: 0.2338 - acc: 0.9126 - val_loss: 0.2495 - val_acc: 0.9055\n",
            "Epoch 55/100\n",
            "48000/48000 [==============================] - 2s 37us/step - loss: 0.2353 - acc: 0.9122 - val_loss: 0.2548 - val_acc: 0.9074\n",
            "Epoch 56/100\n",
            "48000/48000 [==============================] - 2s 37us/step - loss: 0.2365 - acc: 0.9101 - val_loss: 0.2503 - val_acc: 0.9093\n",
            "Epoch 57/100\n",
            "48000/48000 [==============================] - 2s 39us/step - loss: 0.2340 - acc: 0.9111 - val_loss: 0.2461 - val_acc: 0.9104\n",
            "Epoch 58/100\n",
            "48000/48000 [==============================] - 2s 37us/step - loss: 0.2352 - acc: 0.9112 - val_loss: 0.2416 - val_acc: 0.9144\n",
            "Epoch 59/100\n",
            "48000/48000 [==============================] - 2s 37us/step - loss: 0.2346 - acc: 0.9095 - val_loss: 0.2418 - val_acc: 0.9124\n",
            "Epoch 60/100\n",
            "48000/48000 [==============================] - 2s 37us/step - loss: 0.2256 - acc: 0.9139 - val_loss: 0.2549 - val_acc: 0.9077\n",
            "Epoch 61/100\n",
            "48000/48000 [==============================] - 2s 40us/step - loss: 0.2347 - acc: 0.9119 - val_loss: 0.2562 - val_acc: 0.9058\n",
            "Epoch 62/100\n",
            "48000/48000 [==============================] - 2s 37us/step - loss: 0.2358 - acc: 0.9097 - val_loss: 0.2453 - val_acc: 0.9102\n",
            "Epoch 63/100\n",
            "48000/48000 [==============================] - 2s 37us/step - loss: 0.2377 - acc: 0.9091 - val_loss: 0.2536 - val_acc: 0.9073\n",
            "Epoch 64/100\n",
            "48000/48000 [==============================] - 2s 39us/step - loss: 0.2331 - acc: 0.9130 - val_loss: 0.2426 - val_acc: 0.9134\n",
            "Epoch 65/100\n",
            "48000/48000 [==============================] - 2s 37us/step - loss: 0.2280 - acc: 0.9139 - val_loss: 0.2486 - val_acc: 0.9103\n",
            "Epoch 66/100\n",
            "48000/48000 [==============================] - 2s 37us/step - loss: 0.2305 - acc: 0.9127 - val_loss: 0.2401 - val_acc: 0.9153\n",
            "Epoch 67/100\n",
            "48000/48000 [==============================] - 2s 37us/step - loss: 0.2269 - acc: 0.9131 - val_loss: 0.2465 - val_acc: 0.9108\n",
            "Epoch 68/100\n",
            "48000/48000 [==============================] - 2s 39us/step - loss: 0.2331 - acc: 0.9109 - val_loss: 0.2540 - val_acc: 0.9083\n",
            "Epoch 69/100\n",
            "48000/48000 [==============================] - 2s 36us/step - loss: 0.2360 - acc: 0.9114 - val_loss: 0.2431 - val_acc: 0.9110\n",
            "Epoch 70/100\n",
            "48000/48000 [==============================] - 2s 37us/step - loss: 0.2266 - acc: 0.9148 - val_loss: 0.2493 - val_acc: 0.9093\n",
            "Epoch 71/100\n",
            "48000/48000 [==============================] - 2s 39us/step - loss: 0.2317 - acc: 0.9122 - val_loss: 0.2459 - val_acc: 0.9101\n",
            "Epoch 72/100\n",
            "48000/48000 [==============================] - 2s 37us/step - loss: 0.2291 - acc: 0.9137 - val_loss: 0.2500 - val_acc: 0.9111\n",
            "Epoch 73/100\n",
            "48000/48000 [==============================] - 2s 37us/step - loss: 0.2242 - acc: 0.9156 - val_loss: 0.2412 - val_acc: 0.9126\n",
            "Epoch 74/100\n",
            "48000/48000 [==============================] - 2s 37us/step - loss: 0.2253 - acc: 0.9136 - val_loss: 0.2453 - val_acc: 0.9118\n",
            "Epoch 75/100\n",
            "48000/48000 [==============================] - 2s 39us/step - loss: 0.2342 - acc: 0.9119 - val_loss: 0.2465 - val_acc: 0.9119\n",
            "Epoch 76/100\n",
            "48000/48000 [==============================] - 2s 37us/step - loss: 0.2238 - acc: 0.9161 - val_loss: 0.2448 - val_acc: 0.9110\n",
            "Epoch 77/100\n",
            "48000/48000 [==============================] - 2s 37us/step - loss: 0.2253 - acc: 0.9146 - val_loss: 0.2483 - val_acc: 0.9106\n",
            "Epoch 78/100\n",
            "48000/48000 [==============================] - 2s 39us/step - loss: 0.2311 - acc: 0.9118 - val_loss: 0.2747 - val_acc: 0.8997\n",
            "Epoch 79/100\n",
            "48000/48000 [==============================] - 2s 37us/step - loss: 0.2218 - acc: 0.9173 - val_loss: 0.2447 - val_acc: 0.9134\n",
            "Epoch 80/100\n",
            "48000/48000 [==============================] - 2s 37us/step - loss: 0.2263 - acc: 0.9141 - val_loss: 0.2519 - val_acc: 0.9118\n",
            "Epoch 81/100\n",
            "48000/48000 [==============================] - 2s 37us/step - loss: 0.2243 - acc: 0.9162 - val_loss: 0.2493 - val_acc: 0.9107\n",
            "Epoch 82/100\n",
            "48000/48000 [==============================] - 2s 40us/step - loss: 0.2285 - acc: 0.9124 - val_loss: 0.2438 - val_acc: 0.9144\n",
            "Epoch 83/100\n",
            "48000/48000 [==============================] - 2s 37us/step - loss: 0.2257 - acc: 0.9152 - val_loss: 0.2437 - val_acc: 0.9125\n",
            "Epoch 84/100\n",
            "48000/48000 [==============================] - 2s 37us/step - loss: 0.2222 - acc: 0.9159 - val_loss: 0.2480 - val_acc: 0.9100\n",
            "Epoch 85/100\n",
            "48000/48000 [==============================] - 2s 39us/step - loss: 0.2240 - acc: 0.9157 - val_loss: 0.2418 - val_acc: 0.9154\n",
            "Epoch 86/100\n",
            "48000/48000 [==============================] - 2s 37us/step - loss: 0.2227 - acc: 0.9148 - val_loss: 0.2502 - val_acc: 0.9092\n",
            "Epoch 87/100\n",
            "48000/48000 [==============================] - 2s 37us/step - loss: 0.2253 - acc: 0.9144 - val_loss: 0.2532 - val_acc: 0.9103\n",
            "Epoch 88/100\n",
            "48000/48000 [==============================] - 2s 36us/step - loss: 0.2301 - acc: 0.9134 - val_loss: 0.2428 - val_acc: 0.9160\n",
            "Epoch 89/100\n",
            "48000/48000 [==============================] - 2s 39us/step - loss: 0.2216 - acc: 0.9165 - val_loss: 0.2508 - val_acc: 0.9102\n",
            "Epoch 90/100\n",
            "48000/48000 [==============================] - 2s 37us/step - loss: 0.2320 - acc: 0.9123 - val_loss: 0.2583 - val_acc: 0.9067\n",
            "Epoch 91/100\n",
            "48000/48000 [==============================] - 2s 37us/step - loss: 0.2236 - acc: 0.9148 - val_loss: 0.2387 - val_acc: 0.9140\n",
            "Epoch 92/100\n",
            "48000/48000 [==============================] - 2s 39us/step - loss: 0.2199 - acc: 0.9174 - val_loss: 0.2476 - val_acc: 0.9080\n",
            "Epoch 93/100\n",
            "48000/48000 [==============================] - 2s 37us/step - loss: 0.2226 - acc: 0.9154 - val_loss: 0.2656 - val_acc: 0.9040\n",
            "Epoch 94/100\n",
            "48000/48000 [==============================] - 2s 37us/step - loss: 0.2242 - acc: 0.9156 - val_loss: 0.2462 - val_acc: 0.9105\n",
            "Epoch 95/100\n",
            "48000/48000 [==============================] - 2s 37us/step - loss: 0.2209 - acc: 0.9163 - val_loss: 0.2548 - val_acc: 0.9105\n",
            "Epoch 96/100\n",
            "48000/48000 [==============================] - 2s 39us/step - loss: 0.2256 - acc: 0.9144 - val_loss: 0.2509 - val_acc: 0.9100\n",
            "Epoch 97/100\n",
            "48000/48000 [==============================] - 2s 37us/step - loss: 0.2222 - acc: 0.9155 - val_loss: 0.2492 - val_acc: 0.9108\n",
            "Epoch 98/100\n",
            "48000/48000 [==============================] - 2s 37us/step - loss: 0.2170 - acc: 0.9188 - val_loss: 0.2495 - val_acc: 0.9081\n",
            "Epoch 99/100\n",
            "48000/48000 [==============================] - 2s 39us/step - loss: 0.2172 - acc: 0.9175 - val_loss: 0.2425 - val_acc: 0.9118\n",
            "Epoch 100/100\n",
            "48000/48000 [==============================] - 2s 37us/step - loss: 0.2252 - acc: 0.9143 - val_loss: 0.2496 - val_acc: 0.9084\n"
          ],
          "name": "stdout"
        }
      ]
    },
    {
      "cell_type": "code",
      "metadata": {
        "id": "xZAnH8Ho_DJ9",
        "colab_type": "code",
        "outputId": "aae93a0a-1c3f-4f59-faad-ee4efa9441c1",
        "colab": {
          "base_uri": "https://localhost:8080/",
          "height": 298
        }
      },
      "source": [
        "# plot the training loss and accuracy\n",
        "plt.style.use(\"ggplot\")\n",
        "plt.figure()\n",
        "plt.plot(np.arange(0, 100), H.history[\"loss\"], label=\"train_loss\")\n",
        "plt.plot(np.arange(0, 100), H.history[\"val_loss\"], label=\"val_loss\")\n",
        "plt.plot(np.arange(0, 100), H.history[\"acc\"], label=\"train_acc\")\n",
        "plt.plot(np.arange(0, 100), H.history[\"val_acc\"], label=\"val_acc\")\n",
        "plt.title(\"Training Loss and Accuracy\")\n",
        "plt.xlabel(\"Epoch #\")\n",
        "plt.ylabel(\"Loss/Accuracy\")\n",
        "plt.legend()\n",
        "plt.show()\n",
        "\n",
        "\n"
      ],
      "execution_count": 0,
      "outputs": [
        {
          "output_type": "display_data",
          "data": {
            "image/png": "[encoded data removed]",
            "text/plain": [
              "<Figure size 432x288 with 1 Axes>"
            ]
          },
          "metadata": {
            "tags": []
          }
        }
      ]
    },
    {
      "cell_type": "code",
      "metadata": {
        "id": "ngO6Nfbj_DKA",
        "colab_type": "code",
        "outputId": "69427e55-9898-4b4e-a849-c051835da2c7",
        "colab": {
          "base_uri": "https://localhost:8080/",
          "height": 53
        }
      },
      "source": [
        "score,acc = model.evaluate(x_test, y_test, verbose=1)\n",
        "print(acc)"
      ],
      "execution_count": 0,
      "outputs": [
        {
          "output_type": "stream",
          "text": [
            "10000/10000 [==============================] - 1s 74us/step\n",
            "0.9132\n"
          ],
          "name": "stdout"
        }
      ]
    },
    {
      "cell_type": "code",
      "metadata": {
        "id": "AbtA8RWZ_DKD",
        "colab_type": "code",
        "colab": {}
      },
      "source": [
        ""
      ],
      "execution_count": 0,
      "outputs": []
    },
    {
      "cell_type": "code",
      "metadata": {
        "id": "pNhKHUm2_DKG",
        "colab_type": "code",
        "outputId": "6873973d-f05b-40a3-d02a-63c359d65f37",
        "colab": {
          "base_uri": "https://localhost:8080/",
          "height": 301
        }
      },
      "source": [
        "y_predict = model.predict(x_test)\n",
        "\n",
        "label={    \n",
        "0 :\"T-shirt/top\",\n",
        "1 :\"Trouser\",\n",
        "2 :\"Pullover\",\n",
        "3 :\"Dress\",\n",
        "4 :\"Coat\",\n",
        "5 :\"Sandal\",\n",
        "6 :\"Shirt\",\n",
        "7 :\"Sneaker\",\n",
        "8 :\"Bag\",\n",
        "9 :\"Ankle boot\" \n",
        "}\n",
        "def find_label(val):\n",
        "    if val in label.keys():\n",
        "        print(label[val])\n",
        "    \n",
        "find_label(y_predict[20].argmax())\n",
        "plt.imshow(x_test[20].reshape(28, 28))\n",
        "\n"
      ],
      "execution_count": 0,
      "outputs": [
        {
          "output_type": "stream",
          "text": [
            "Coat\n"
          ],
          "name": "stdout"
        },
        {
          "output_type": "execute_result",
          "data": {
            "text/plain": [
              "<matplotlib.image.AxesImage at 0x7f5a09d1b0b8>"
            ]
          },
          "metadata": {
            "tags": []
          },
          "execution_count": 12
        },
        {
          "output_type": "display_data",
          "data": {
            "image/png": "[encoded data removed]",
            "text/plain": [
              "<Figure size 432x288 with 1 Axes>"
            ]
          },
          "metadata": {
            "tags": []
          }
        }
      ]
    },
    {
      "cell_type": "code",
      "metadata": {
        "id": "U3RmeBZI_DKK",
        "colab_type": "code",
        "colab": {}
      },
      "source": [
        "model.save('fmnist_model_trained.h5')"
      ],
      "execution_count": 0,
      "outputs": []
    },
    {
      "cell_type": "code",
      "metadata": {
        "id": "aszXjXy2PKe6",
        "colab_type": "code",
        "colab": {}
      },
      "source": [
        ""
      ],
      "execution_count": 0,
      "outputs": []
    },
    {
      "cell_type": "code",
      "metadata": {
        "id": "t4U6jDDu_DKN",
        "colab_type": "code",
        "colab": {}
      },
      "source": [
        "from keras.models import load_model"
      ],
      "execution_count": 0,
      "outputs": []
    },
    {
      "cell_type": "code",
      "metadata": {
        "id": "34myIxk1_DKR",
        "colab_type": "code",
        "colab": {}
      },
      "source": [
        "cnn_model=load_model('fmnist_model_trained.h5')"
      ],
      "execution_count": 0,
      "outputs": []
    },
    {
      "cell_type": "code",
      "metadata": {
        "id": "s6eHpUZ-_DKT",
        "colab_type": "code",
        "outputId": "28f8e6d7-06c6-4fb9-c92b-471d2326ebfc",
        "colab": {
          "base_uri": "https://localhost:8080/",
          "height": 359
        }
      },
      "source": [
        "cnn_model.summary()"
      ],
      "execution_count": 0,
      "outputs": [
        {
          "output_type": "stream",
          "text": [
            "_________________________________________________________________\n",
            "Layer (type)                 Output Shape              Param #   \n",
            "=================================================================\n",
            "conv2d_1 (Conv2D)            (None, 26, 26, 32)        320       \n",
            "_________________________________________________________________\n",
            "max_pooling2d_1 (MaxPooling2 (None, 13, 13, 32)        0         \n",
            "_________________________________________________________________\n",
            "dropout_1 (Dropout)          (None, 13, 13, 32)        0         \n",
            "_________________________________________________________________\n",
            "flatten_1 (Flatten)          (None, 5408)              0         \n",
            "_________________________________________________________________\n",
            "dense_1 (Dense)              (None, 32)                173088    \n",
            "_________________________________________________________________\n",
            "dense_2 (Dense)              (None, 10)                330       \n",
            "=================================================================\n",
            "Total params: 173,738\n",
            "Trainable params: 173,738\n",
            "Non-trainable params: 0\n",
            "_________________________________________________________________\n"
          ],
          "name": "stdout"
        }
      ]
    },
    {
      "cell_type": "code",
      "metadata": {
        "id": "J5GO-r0i_DKX",
        "colab_type": "code",
        "colab": {}
      },
      "source": [
        "labelNames = [\"T-shirt/top\", \"Trouser\", \"Pullover\", \"dress\", \"Coat\",\n",
        "              \"Sandal\", \"Shirt\", \"Sneaker\", \"Bag\", \"Ankle boot\"]\n"
      ],
      "execution_count": 0,
      "outputs": []
    },
    {
      "cell_type": "code",
      "metadata": {
        "id": "b18YGTR8_DKb",
        "colab_type": "code",
        "outputId": "08968c23-e507-4702-e063-e3e22c614d46",
        "colab": {
          "base_uri": "https://localhost:8080/",
          "height": 323
        }
      },
      "source": [
        "\n",
        "predictions = cnn_model.predict(x_test, batch_size=512)\n",
        "print(classification_report(y_test.argmax(axis=1),predictions.argmax(axis=1), target_names=labelNames))"
      ],
      "execution_count": 0,
      "outputs": [
        {
          "output_type": "stream",
          "text": [
            "              precision    recall  f1-score   support\n",
            "\n",
            " T-shirt/top       0.90      0.85      0.87      1000\n",
            "     Trouser       0.98      0.99      0.98      1000\n",
            "    Pullover       0.90      0.86      0.88      1000\n",
            "       dress       0.94      0.92      0.93      1000\n",
            "        Coat       0.87      0.89      0.88      1000\n",
            "      Sandal       0.99      0.96      0.98      1000\n",
            "       Shirt       0.75      0.82      0.78      1000\n",
            "     Sneaker       0.96      0.96      0.96      1000\n",
            "         Bag       0.98      0.98      0.98      1000\n",
            "  Ankle boot       0.95      0.97      0.96      1000\n",
            "\n",
            "   micro avg       0.92      0.92      0.92     10000\n",
            "   macro avg       0.92      0.92      0.92     10000\n",
            "weighted avg       0.92      0.92      0.92     10000\n",
            "\n"
          ],
          "name": "stdout"
        }
      ]
    },
    {
      "cell_type": "code",
      "metadata": {
        "id": "WdNGNzKk_DKj",
        "colab_type": "code",
        "colab": {}
      },
      "source": [
        "from sklearn.metrics import confusion_matrix\n",
        "\n",
        "y_pred = cnn_model.predict(x_test)"
      ],
      "execution_count": 0,
      "outputs": []
    },
    {
      "cell_type": "code",
      "metadata": {
        "id": "RPExiWEsXLZx",
        "colab_type": "code",
        "colab": {}
      },
      "source": [
        "y_test = np.argmax(y_test,axis=1)\n",
        "print(y_predict)"
      ],
      "execution_count": 0,
      "outputs": []
    },
    {
      "cell_type": "code",
      "metadata": {
        "id": "KcXAq8GCXQRG",
        "colab_type": "code",
        "outputId": "4dd1b9e8-fc70-4246-ca99-1ab322749b24",
        "colab": {
          "base_uri": "https://localhost:8080/",
          "height": 35
        }
      },
      "source": [
        "y = cnn_model.predict_classes(x_test)\n",
        "print(y)"
      ],
      "execution_count": 0,
      "outputs": [
        {
          "output_type": "stream",
          "text": [
            "[0 1 2 ... 8 8 1]\n"
          ],
          "name": "stdout"
        }
      ]
    },
    {
      "cell_type": "code",
      "metadata": {
        "id": "wZLb2NOHeGv8",
        "colab_type": "code",
        "outputId": "ed54e1bc-b396-466d-de3d-1f5dfecf55a4",
        "colab": {
          "base_uri": "https://localhost:8080/",
          "height": 197
        }
      },
      "source": [
        "print(confusion_matrix(y_test,y))"
      ],
      "execution_count": 0,
      "outputs": [
        {
          "output_type": "stream",
          "text": [
            "[[847   0  18  10   3   0 111   0  11   0]\n",
            " [  2 987   2   3   2   0   3   0   1   0]\n",
            " [ 20   1 860   4  50   0  63   0   2   0]\n",
            " [  5   9   5 921  27   0  33   0   0   0]\n",
            " [  1   2  26  19 892   0  60   0   0   0]\n",
            " [  0   3   0   0   0 962   0  19   4  12]\n",
            " [ 66   1  44  23  43   0 816   0   7   0]\n",
            " [  0   0   0   0   0   5   0 962   0  33]\n",
            " [  2   3   1   0   2   2   3   2 984   1]\n",
            " [  0   0   0   0   1   2   0  23   0 974]]\n"
          ],
          "name": "stdout"
        }
      ]
    },
    {
      "cell_type": "code",
      "metadata": {
        "id": "aGMb18w1m3zn",
        "colab_type": "code",
        "colab": {}
      },
      "source": [
        ""
      ],
      "execution_count": 0,
      "outputs": []
    },
    {
      "cell_type": "code",
      "metadata": {
        "id": "m0ePK6R7Ywd3",
        "colab_type": "code",
        "outputId": "30c4beb5-4ade-49c6-a428-ac14c7aa4be0",
        "colab": {
          "base_uri": "https://localhost:8080/",
          "height": 35
        }
      },
      "source": [
        ""
      ],
      "execution_count": 0,
      "outputs": [
        {
          "output_type": "stream",
          "text": [
            "(10000, 10)\n"
          ],
          "name": "stdout"
        }
      ]
    },
    {
      "cell_type": "code",
      "metadata": {
        "id": "LqsOB-5kT5wv",
        "colab_type": "code",
        "outputId": "1fbe96a9-8f96-409e-e4d3-b5035de66090",
        "colab": {
          "base_uri": "https://localhost:8080/",
          "height": 480
        }
      },
      "source": [
        "confmat = confusion_matrix(y_test,y)\n",
        "\n",
        "print('\\nConfusion Matrix: \\n',confmat)\n",
        "\n",
        "# Plot Confusion Matrix Data as a Matrix\n",
        "plt.matshow(confmat)\n",
        "plt.title('Confusion Matrix for Validation Data')\n",
        "plt.colorbar()\n",
        "plt.ylabel('True label')\n",
        "plt.xlabel('Predicted label')\n",
        "plt.show()"
      ],
      "execution_count": 0,
      "outputs": [
        {
          "output_type": "stream",
          "text": [
            "\n",
            "Confusion Matrix: \n",
            " [[847   0  18  10   3   0 111   0  11   0]\n",
            " [  2 987   2   3   2   0   3   0   1   0]\n",
            " [ 20   1 860   4  50   0  63   0   2   0]\n",
            " [  5   9   5 921  27   0  33   0   0   0]\n",
            " [  1   2  26  19 892   0  60   0   0   0]\n",
            " [  0   3   0   0   0 962   0  19   4  12]\n",
            " [ 66   1  44  23  43   0 816   0   7   0]\n",
            " [  0   0   0   0   0   5   0 962   0  33]\n",
            " [  2   3   1   0   2   2   3   2 984   1]\n",
            " [  0   0   0   0   1   2   0  23   0 974]]\n"
          ],
          "name": "stdout"
        },
        {
          "output_type": "display_data",
          "data": {
            "image/png": "[encoded data removed]",
            "text/plain": [
              "<Figure size 288x288 with 2 Axes>"
            ]
          },
          "metadata": {
            "tags": []
          }
        }
      ]
    },
    {
      "cell_type": "code",
      "metadata": {
        "id": "nLLId8YAUhlf",
        "colab_type": "code",
        "outputId": "ad68066a-3a45-42b1-87bc-e52c9a6e85c2",
        "colab": {
          "base_uri": "https://localhost:8080/",
          "height": 233
        }
      },
      "source": [
        "import pandas as pd\n",
        "y_actu = pd.Series(y_test, name='Actual')\n",
        "y_pred = pd.Series(y, name='Predicted')\n",
        "df_confusion = pd.crosstab(y_actu, y_pred)\n",
        "print(df_confusion)"
      ],
      "execution_count": 0,
      "outputs": [
        {
          "output_type": "stream",
          "text": [
            "Predicted    0    1    2    3    4    5    6    7    8    9\n",
            "Actual                                                     \n",
            "0          847    0   18   10    3    0  111    0   11    0\n",
            "1            2  987    2    3    2    0    3    0    1    0\n",
            "2           20    1  860    4   50    0   63    0    2    0\n",
            "3            5    9    5  921   27    0   33    0    0    0\n",
            "4            1    2   26   19  892    0   60    0    0    0\n",
            "5            0    3    0    0    0  962    0   19    4   12\n",
            "6           66    1   44   23   43    0  816    0    7    0\n",
            "7            0    0    0    0    0    5    0  962    0   33\n",
            "8            2    3    1    0    2    2    3    2  984    1\n",
            "9            0    0    0    0    1    2    0   23    0  974\n"
          ],
          "name": "stdout"
        }
      ]
    },
    {
      "cell_type": "code",
      "metadata": {
        "id": "Juw8Cn0DmFQO",
        "colab_type": "code",
        "outputId": "c3b5302f-7b08-446a-dd43-e778653212e2",
        "colab": {
          "base_uri": "https://localhost:8080/",
          "height": 235
        }
      },
      "source": [
        "!pip install pandas-ml"
      ],
      "execution_count": 0,
      "outputs": [
        {
          "output_type": "stream",
          "text": [
            "Collecting pandas-ml\n",
            "\u001b[?25l  Downloading https://files.pythonhosted.org/packages/ae/72/6d90debfcb9ea74ec00927fa7ed0204dcc560b1f9ffcd8b239daa7fd106d/pandas_ml-0.6.1-py3-none-any.whl (100kB)\n",
            "\u001b[K    100% |████████████████████████████████| 102kB 3.3MB/s \n",
            "\u001b[?25hRequirement already satisfied: enum34 in /usr/local/lib/python3.6/dist-packages (from pandas-ml) (1.1.6)\n",
            "Requirement already satisfied: pandas>=0.19.0 in /usr/local/lib/python3.6/dist-packages (from pandas-ml) (0.22.0)\n",
            "Requirement already satisfied: numpy>=1.9.0 in /usr/local/lib/python3.6/dist-packages (from pandas>=0.19.0->pandas-ml) (1.14.6)\n",
            "Requirement already satisfied: python-dateutil>=2 in /usr/local/lib/python3.6/dist-packages (from pandas>=0.19.0->pandas-ml) (2.5.3)\n",
            "Requirement already satisfied: pytz>=2011k in /usr/local/lib/python3.6/dist-packages (from pandas>=0.19.0->pandas-ml) (2018.9)\n",
            "Requirement already satisfied: six>=1.5 in /usr/local/lib/python3.6/dist-packages (from python-dateutil>=2->pandas>=0.19.0->pandas-ml) (1.11.0)\n",
            "Installing collected packages: pandas-ml\n",
            "Successfully installed pandas-ml-0.6.1\n"
          ],
          "name": "stdout"
        }
      ]
    },
    {
      "cell_type": "code",
      "metadata": {
        "id": "fWtCTTDxkXP7",
        "colab_type": "code",
        "colab": {}
      },
      "source": [
        "from pandas_ml import ConfusionMatrix"
      ],
      "execution_count": 0,
      "outputs": []
    },
    {
      "cell_type": "code",
      "metadata": {
        "id": "pHCGi0N-mVwG",
        "colab_type": "code",
        "outputId": "2cf295a5-108e-4c21-d4e9-313aa12b1873",
        "colab": {
          "base_uri": "https://localhost:8080/",
          "height": 2537
        }
      },
      "source": [
        "cm = ConfusionMatrix(y_actu, y_pred)\n",
        "cm.print_stats('')"
      ],
      "execution_count": 0,
      "outputs": [
        {
          "output_type": "stream",
          "text": [
            "Confusion Matrix:\n",
            "\n",
            "Predicted    0     1    2    3     4    5     6     7     8     9  __all__\n",
            "Actual                                                                    \n",
            "0          847     0   18   10     3    0   111     0    11     0     1000\n",
            "1            2   987    2    3     2    0     3     0     1     0     1000\n",
            "2           20     1  860    4    50    0    63     0     2     0     1000\n",
            "3            5     9    5  921    27    0    33     0     0     0     1000\n",
            "4            1     2   26   19   892    0    60     0     0     0     1000\n",
            "5            0     3    0    0     0  962     0    19     4    12     1000\n",
            "6           66     1   44   23    43    0   816     0     7     0     1000\n",
            "7            0     0    0    0     0    5     0   962     0    33     1000\n",
            "8            2     3    1    0     2    2     3     2   984     1     1000\n",
            "9            0     0    0    0     1    2     0    23     0   974     1000\n",
            "__all__    943  1006  956  980  1020  971  1089  1006  1009  1020    10000\n",
            "\n",
            "\n",
            "Overall Statistics:\n",
            "\n",
            "Accuracy: 0.9205\n",
            "95% CI: (0.9150245751849687, 0.9257290187100301)\n",
            "No Information Rate: ToDo\n",
            "P-Value [Acc > NIR]: 0.0\n",
            "Kappa: 0.9116666666666666\n",
            "Mcnemar's Test P-Value: ToDo\n",
            "\n",
            "\n",
            "Class Statistics:\n",
            "\n",
            "Classes                                        0           1          2  \\\n",
            "Population                                 10000       10000      10000   \n",
            "P: Condition positive                       1000        1000       1000   \n",
            "N: Condition negative                       9000        9000       9000   \n",
            "Test outcome positive                        943        1006        956   \n",
            "Test outcome negative                       9057        8994       9044   \n",
            "TP: True Positive                            847         987        860   \n",
            "TN: True Negative                           8904        8981       8904   \n",
            "FP: False Positive                            96          19         96   \n",
            "FN: False Negative                           153          13        140   \n",
            "TPR: (Sensitivity, hit rate, recall)       0.847       0.987       0.86   \n",
            "TNR=SPC: (Specificity)                  0.989333    0.997889   0.989333   \n",
            "PPV: Pos Pred Value (Precision)         0.898197    0.981113   0.899582   \n",
            "NPV: Neg Pred Value                     0.983107    0.998555    0.98452   \n",
            "FPR: False-out                         0.0106667  0.00211111  0.0106667   \n",
            "FDR: False Discovery Rate               0.101803   0.0188867   0.100418   \n",
            "FNR: Miss Rate                             0.153       0.013       0.14   \n",
            "ACC: Accuracy                             0.9751      0.9968     0.9764   \n",
            "F1 score                                0.871848    0.984048   0.879346   \n",
            "MCC: Matthews correlation coefficient   0.858524    0.982275   0.866543   \n",
            "Informedness                            0.836333    0.984889   0.849333   \n",
            "Markedness                              0.881304    0.979668   0.884102   \n",
            "Prevalence                                   0.1         0.1        0.1   \n",
            "LR+: Positive likelihood ratio           79.4062     467.526     80.625   \n",
            "LR-: Negative likelihood ratio           0.15465   0.0130275   0.141509   \n",
            "DOR: Diagnostic odds ratio               513.459     35887.6     569.75   \n",
            "FOR: False omission rate                0.016893  0.00144541  0.0154799   \n",
            "\n",
            "Classes                                         3          4           5  \\\n",
            "Population                                  10000      10000       10000   \n",
            "P: Condition positive                        1000       1000        1000   \n",
            "N: Condition negative                        9000       9000        9000   \n",
            "Test outcome positive                         980       1020         971   \n",
            "Test outcome negative                        9020       8980        9029   \n",
            "TP: True Positive                             921        892         962   \n",
            "TN: True Negative                            8941       8872        8991   \n",
            "FP: False Positive                             59        128           9   \n",
            "FN: False Negative                             79        108          38   \n",
            "TPR: (Sensitivity, hit rate, recall)        0.921      0.892       0.962   \n",
            "TNR=SPC: (Specificity)                   0.993444   0.985778       0.999   \n",
            "PPV: Pos Pred Value (Precision)          0.939796    0.87451    0.990731   \n",
            "NPV: Neg Pred Value                      0.991242   0.987973    0.995791   \n",
            "FPR: False-out                         0.00655556  0.0142222       0.001   \n",
            "FDR: False Discovery Rate               0.0602041    0.12549   0.0092688   \n",
            "FNR: Miss Rate                              0.079      0.108       0.038   \n",
            "ACC: Accuracy                              0.9862     0.9764      0.9953   \n",
            "F1 score                                 0.930303   0.883168    0.976154   \n",
            "MCC: Matthews correlation coefficient    0.922704   0.870097    0.973678   \n",
            "Informedness                             0.914444   0.877778       0.961   \n",
            "Markedness                               0.931038   0.862483    0.986523   \n",
            "Prevalence                                    0.1        0.1         0.1   \n",
            "LR+: Positive likelihood ratio            140.492    62.7188         962   \n",
            "LR-: Negative likelihood ratio          0.0795213   0.109558    0.038038   \n",
            "DOR: Diagnostic odds ratio                1766.72     572.47     25290.5   \n",
            "FOR: False omission rate               0.00875831  0.0120267  0.00420866   \n",
            "\n",
            "Classes                                        6           7           8  \\\n",
            "Population                                 10000       10000       10000   \n",
            "P: Condition positive                       1000        1000        1000   \n",
            "N: Condition negative                       9000        9000        9000   \n",
            "Test outcome positive                       1089        1006        1009   \n",
            "Test outcome negative                       8911        8994        8991   \n",
            "TP: True Positive                            816         962         984   \n",
            "TN: True Negative                           8727        8956        8975   \n",
            "FP: False Positive                           273          44          25   \n",
            "FN: False Negative                           184          38          16   \n",
            "TPR: (Sensitivity, hit rate, recall)       0.816       0.962       0.984   \n",
            "TNR=SPC: (Specificity)                  0.969667    0.995111    0.997222   \n",
            "PPV: Pos Pred Value (Precision)         0.749311    0.956262    0.975223   \n",
            "NPV: Neg Pred Value                     0.979351    0.995775     0.99822   \n",
            "FPR: False-out                         0.0303333  0.00488889  0.00277778   \n",
            "FDR: False Discovery Rate               0.250689   0.0437376    0.024777   \n",
            "FNR: Miss Rate                             0.184       0.038       0.016   \n",
            "ACC: Accuracy                             0.9543      0.9918      0.9959   \n",
            "F1 score                                0.781235    0.959123    0.979592   \n",
            "MCC: Matthews correlation coefficient   0.756628    0.954571    0.977325   \n",
            "Informedness                            0.785667    0.957111    0.981222   \n",
            "Markedness                              0.728663    0.952037    0.973443   \n",
            "Prevalence                                   0.1         0.1         0.1   \n",
            "LR+: Positive likelihood ratio           26.9011     196.773      354.24   \n",
            "LR-: Negative likelihood ratio          0.189756   0.0381867   0.0160446   \n",
            "DOR: Diagnostic odds ratio               141.767     5152.91     22078.5   \n",
            "FOR: False omission rate               0.0206486  0.00422504  0.00177956   \n",
            "\n",
            "Classes                                         9  \n",
            "Population                                  10000  \n",
            "P: Condition positive                        1000  \n",
            "N: Condition negative                        9000  \n",
            "Test outcome positive                        1020  \n",
            "Test outcome negative                        8980  \n",
            "TP: True Positive                             974  \n",
            "TN: True Negative                            8954  \n",
            "FP: False Positive                             46  \n",
            "FN: False Negative                             26  \n",
            "TPR: (Sensitivity, hit rate, recall)        0.974  \n",
            "TNR=SPC: (Specificity)                   0.994889  \n",
            "PPV: Pos Pred Value (Precision)          0.954902  \n",
            "NPV: Neg Pred Value                      0.997105  \n",
            "FPR: False-out                         0.00511111  \n",
            "FDR: False Discovery Rate                0.045098  \n",
            "FNR: Miss Rate                              0.026  \n",
            "ACC: Accuracy                              0.9928  \n",
            "F1 score                                 0.964356  \n",
            "MCC: Matthews correlation coefficient    0.960411  \n",
            "Informedness                             0.968889  \n",
            "Markedness                               0.952007  \n",
            "Prevalence                                    0.1  \n",
            "LR+: Positive likelihood ratio            190.565  \n",
            "LR-: Negative likelihood ratio          0.0261336  \n",
            "DOR: Diagnostic odds ratio                7291.97  \n",
            "FOR: False omission rate               0.00289532  \n"
          ],
          "name": "stdout"
        }
      ]
    },
    {
      "cell_type": "code",
      "metadata": {
        "id": "TH16TJb1vBRk",
        "colab_type": "code",
        "outputId": "b22ef412-6f72-4446-b4a0-b8edfd6533f3",
        "colab": {
          "base_uri": "https://localhost:8080/",
          "height": 1259
        }
      },
      "source": [
        "predicted = cnn_model.predict(x_test) \n",
        "misclass = np.abs(ytest - np.round(predicted))\n",
        "classcheck = np.sum(misclass,axis=1)\n",
        "np.where(classcheck >1)[0]"
      ],
      "execution_count": 0,
      "outputs": [
        {
          "output_type": "execute_result",
          "data": {
            "text/plain": [
              "array([   5,   30,   41,   43,   51,   62,   72,   79,   91,   97,  101,\n",
              "        103,  105,  116,  119,  126,  128,  138,  146,  196,  198,  217,\n",
              "        227,  232,  239,  284,  295,  296,  303,  305,  313,  323,  354,\n",
              "        366,  391,  396,  403,  410,  429,  430,  528,  532,  535,  564,\n",
              "        604,  609,  612,  647,  656,  657,  703,  720,  755,  771,  786,\n",
              "        787,  788,  819,  828,  833,  835,  842,  852,  868,  884,  925,\n",
              "        932,  933,  947,  987,  994,  997, 1011, 1023, 1025, 1042, 1047,\n",
              "       1071, 1091, 1098, 1113, 1132, 1139, 1150, 1160, 1161, 1165, 1169,\n",
              "       1177, 1178, 1195, 1211, 1213, 1228, 1282, 1283, 1285, 1290, 1292,\n",
              "       1300, 1308, 1312, 1314, 1315, 1323, 1324, 1329, 1343, 1346, 1351,\n",
              "       1360, 1394, 1404, 1409, 1429, 1433, 1436, 1438, 1443, 1474, 1475,\n",
              "       1536, 1556, 1557, 1564, 1567, 1571, 1585, 1616, 1640, 1652, 1664,\n",
              "       1677, 1679, 1696, 1699, 1707, 1729, 1736, 1738, 1745, 1747, 1750,\n",
              "       1760, 1774, 1779, 1792, 1806, 1846, 1857, 1859, 1862, 1871, 1874,\n",
              "       1875, 1884, 1892, 1925, 1951, 1958, 1962, 1963, 1982, 1997, 2018,\n",
              "       2030, 2033, 2035, 2037, 2039, 2062, 2063, 2069, 2072, 2080, 2083,\n",
              "       2098, 2125, 2128, 2135, 2151, 2163, 2172, 2188, 2200, 2209, 2222,\n",
              "       2224, 2225, 2231, 2235, 2246, 2273, 2291, 2298, 2313, 2315, 2380,\n",
              "       2397, 2407, 2424, 2438, 2442, 2447, 2476, 2489, 2492, 2496, 2513,\n",
              "       2524, 2533, 2542, 2554, 2564, 2575, 2579, 2594, 2603, 2609, 2614,\n",
              "       2634, 2662, 2663, 2687, 2689, 2690, 2695, 2715, 2721, 2743, 2825,\n",
              "       2867, 2870, 2878, 2889, 2900, 2903, 2919, 2930, 2948, 2955, 2978,\n",
              "       2993, 2994, 3009, 3036, 3048, 3049, 3051, 3057, 3070, 3088, 3103,\n",
              "       3104, 3111, 3116, 3139, 3161, 3162, 3164, 3210, 3249, 3253, 3257,\n",
              "       3261, 3264, 3285, 3312, 3324, 3325, 3339, 3347, 3364, 3366, 3367,\n",
              "       3381, 3392, 3399, 3411, 3436, 3476, 3492, 3516, 3523, 3554, 3562,\n",
              "       3576, 3591, 3595, 3596, 3610, 3654, 3656, 3670, 3743, 3760, 3762,\n",
              "       3777, 3780, 3784, 3792, 3810, 3861, 3865, 3871, 3898, 3899, 3903,\n",
              "       3920, 3931, 3933, 3957, 3968, 3987, 4002, 4017, 4020, 4034, 4036,\n",
              "       4058, 4087, 4090, 4108, 4118, 4153, 4202, 4206, 4208, 4209, 4211,\n",
              "       4215, 4229, 4336, 4337, 4359, 4364, 4384, 4413, 4414, 4427, 4428,\n",
              "       4432, 4451, 4461, 4465, 4467, 4493, 4503, 4508, 4528, 4558, 4588,\n",
              "       4591, 4599, 4623, 4628, 4637, 4640, 4665, 4704, 4717, 4736, 4737,\n",
              "       4747, 4754, 4757, 4766, 4793, 4796, 4833, 4840, 4843, 4852, 4865,\n",
              "       4871, 4887, 4901, 4907, 4938, 4954, 4962, 4966, 4970, 4986, 4989,\n",
              "       4998, 5002, 5030, 5036, 5039, 5042, 5049, 5055, 5090, 5103, 5109,\n",
              "       5119, 5121, 5135, 5156, 5175, 5203, 5209, 5211, 5212, 5213, 5227,\n",
              "       5232, 5235, 5248, 5316, 5330, 5333, 5342, 5361, 5378, 5386, 5388,\n",
              "       5416, 5444, 5480, 5515, 5528, 5534, 5538, 5539, 5548, 5550, 5552,\n",
              "       5572, 5573, 5586, 5619, 5630, 5638, 5644, 5661, 5662, 5664, 5674,\n",
              "       5683, 5685, 5714, 5742, 5743, 5766, 5777, 5779, 5807, 5816, 5820,\n",
              "       5842, 5857, 5874, 5900, 5902, 5911, 5912, 5923, 5925, 5927, 5938,\n",
              "       5951, 5995, 6010, 6036, 6058, 6077, 6101, 6110, 6122, 6132, 6139,\n",
              "       6147, 6151, 6159, 6167, 6182, 6187, 6191, 6222, 6225, 6236, 6252,\n",
              "       6299, 6300, 6320, 6358, 6367, 6376, 6378, 6381, 6400, 6416, 6442,\n",
              "       6461, 6471, 6476, 6479, 6508, 6512, 6517, 6537, 6541, 6570, 6583,\n",
              "       6593, 6595, 6600, 6609, 6617, 6623, 6631, 6633, 6649, 6661, 6666,\n",
              "       6671, 6677, 6686, 6699, 6700, 6716, 6721, 6743, 6755, 6785, 6794,\n",
              "       6802, 6811, 6815, 6832, 6837, 6854, 6898, 6932, 6947, 6957, 6974,\n",
              "       6990, 7014, 7020, 7034, 7036, 7077, 7118, 7121, 7124, 7134, 7147,\n",
              "       7159, 7172, 7190, 7205, 7219, 7230, 7246, 7247, 7250, 7265, 7277,\n",
              "       7326, 7373, 7387, 7402, 7421, 7436, 7437, 7442, 7460, 7480, 7487,\n",
              "       7498, 7531, 7536, 7537, 7539, 7540, 7565, 7600, 7607, 7615, 7617,\n",
              "       7635, 7659, 7668, 7681, 7697, 7701, 7708, 7717, 7732, 7737, 7739,\n",
              "       7754, 7755, 7790, 7792, 7793, 7824, 7833, 7837, 7847, 7866, 7870,\n",
              "       7890, 7910, 7915, 7949, 7954, 7979, 8005, 8020, 8027, 8030, 8034,\n",
              "       8035, 8045, 8059, 8094, 8105, 8121, 8165, 8180, 8182, 8190, 8213,\n",
              "       8217, 8249, 8253, 8291, 8310, 8325, 8326, 8336, 8372, 8396, 8407,\n",
              "       8422, 8432, 8447, 8488, 8501, 8515, 8516, 8518, 8552, 8556, 8563,\n",
              "       8576, 8597, 8600, 8641, 8644, 8646, 8657, 8668, 8685, 8709, 8728,\n",
              "       8767, 8780, 8806, 8812, 8814, 8817, 8824, 8832, 8835, 8863, 8881,\n",
              "       8884, 8889, 8901, 8913, 8918, 8926, 8950, 8961, 8965, 8972, 8974,\n",
              "       9019, 9022, 9024, 9034, 9038, 9047, 9051, 9059, 9066, 9069, 9071,\n",
              "       9078, 9087, 9092, 9108, 9133, 9139, 9155, 9161, 9162, 9180, 9181,\n",
              "       9203, 9224, 9228, 9283, 9291, 9338, 9359, 9393, 9419, 9423, 9427,\n",
              "       9442, 9451, 9463, 9483, 9490, 9491, 9507, 9520, 9523, 9560, 9564,\n",
              "       9574, 9595, 9603, 9619, 9625, 9634, 9659, 9674, 9675, 9684, 9689,\n",
              "       9723, 9771, 9776, 9777, 9791, 9807, 9812, 9821, 9847, 9877, 9881,\n",
              "       9903, 9920, 9931, 9949, 9979, 9986])"
            ]
          },
          "metadata": {
            "tags": []
          },
          "execution_count": 64
        }
      ]
    },
    {
      "cell_type": "code",
      "metadata": {
        "id": "mYa0FaCwnnmi",
        "colab_type": "code",
        "outputId": "5fd371b5-4a41-415e-f6bd-8d1aa6a16e70",
        "colab": {
          "base_uri": "https://localhost:8080/",
          "height": 35
        }
      },
      "source": [
        ""
      ],
      "execution_count": 0,
      "outputs": [
        {
          "output_type": "execute_result",
          "data": {
            "text/plain": [
              "(10000, 10)"
            ]
          },
          "metadata": {
            "tags": []
          },
          "execution_count": 62
        }
      ]
    },
    {
      "cell_type": "code",
      "metadata": {
        "id": "f8h95xK0uO1J",
        "colab_type": "code",
        "colab": {}
      },
      "source": [
        ""
      ],
      "execution_count": 0,
      "outputs": []
    }
  ]
}